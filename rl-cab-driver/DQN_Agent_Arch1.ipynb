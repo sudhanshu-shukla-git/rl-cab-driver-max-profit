{
  "nbformat": 4,
  "nbformat_minor": 0,
  "metadata": {
    "kernelspec": {
      "name": "python3",
      "display_name": "Python 3"
    },
    "language_info": {
      "codemirror_mode": {
        "name": "ipython",
        "version": 3
      },
      "file_extension": ".py",
      "mimetype": "text/x-python",
      "name": "python",
      "nbconvert_exporter": "python",
      "pygments_lexer": "ipython3",
      "version": "3.6.5"
    },
    "colab": {
      "name": "DQN_Agent_Arch1.ipynb",
      "version": "0.3.2",
      "provenance": [],
      "collapsed_sections": [],
      "toc_visible": true
    },
    "accelerator": "GPU"
  },
  "cells": [
    {
      "cell_type": "markdown",
      "metadata": {
        "id": "uVyWFfzZkz1P",
        "colab_type": "text"
      },
      "source": [
        "### Cab-Driver Agent"
      ]
    },
    {
      "cell_type": "code",
      "metadata": {
        "id": "go66wPL5kz1W",
        "colab_type": "code",
        "colab": {
          "base_uri": "https://localhost:8080/",
          "height": 35
        },
        "outputId": "97619e31-2452-461e-d6e5-b9d8421b6ea2"
      },
      "source": [
        "# Importing libraries\n",
        "import numpy as np\n",
        "import random\n",
        "import math\n",
        "from collections import deque\n",
        "import collections\n",
        "import pickle\n",
        "\n",
        "# for building DQN model\n",
        "from keras import layers\n",
        "from keras import Sequential\n",
        "from keras.layers import Dense, Activation, Flatten\n",
        "from keras.optimizers import Adam\n",
        "\n",
        "# for plotting graphs\n",
        "import matplotlib.pyplot as plt\n",
        "\n",
        "# Import the environment\n",
        "from Env import CabDriver"
      ],
      "execution_count": 1,
      "outputs": [
        {
          "output_type": "stream",
          "text": [
            "Using TensorFlow backend.\n"
          ],
          "name": "stderr"
        }
      ]
    },
    {
      "cell_type": "markdown",
      "metadata": {
        "id": "UqsJdXipkz1t",
        "colab_type": "text"
      },
      "source": [
        "#### Defining Time Matrix"
      ]
    },
    {
      "cell_type": "code",
      "metadata": {
        "id": "i4T_2wTYkz1w",
        "colab_type": "code",
        "colab": {}
      },
      "source": [
        "# Loading the time matrix provided\n",
        "Time_matrix = np.load(\"TM.npy\")"
      ],
      "execution_count": 0,
      "outputs": []
    },
    {
      "cell_type": "markdown",
      "metadata": {
        "id": "9DQ0WQ-rkz16",
        "colab_type": "text"
      },
      "source": [
        "#### Tracking the state-action pairs for checking convergence\n"
      ]
    },
    {
      "cell_type": "code",
      "metadata": {
        "id": "effwseMQkz2C",
        "colab_type": "code",
        "colab": {}
      },
      "source": [
        "States_track = collections.defaultdict(dict)\n",
        "Q_dict = collections.defaultdict(dict)\n",
        "Q_val_all= collections.defaultdict(dict)"
      ],
      "execution_count": 0,
      "outputs": []
    },
    {
      "cell_type": "code",
      "metadata": {
        "id": "6KjACBG1kz2P",
        "colab_type": "code",
        "colab": {}
      },
      "source": [
        "def add_to_dict(state):            \n",
        "    if state not in Q_dict.keys() :\n",
        "        poss_actions_index, poss_actions = env.requests(state)\n",
        "        for action in poss_actions:\n",
        "            Q_dict[state][action]=0"
      ],
      "execution_count": 0,
      "outputs": []
    },
    {
      "cell_type": "code",
      "metadata": {
        "id": "YDm4E0_Vkz2X",
        "colab_type": "code",
        "colab": {}
      },
      "source": [
        "def initialise_tracking_states():\n",
        "    sample_q_values = [((1,12,6),(1,5)), ((2,5,3),(3,4)), ((5,15,2),(2,3)), ((1,19,3),(3,1)), ((4,11,4),(4,2)), ((3,5,2),(3,2)), ((2,18,3),(4,3))]    #select any 4 Q-values\n",
        "    for q_values in sample_q_values:\n",
        "        state = q_values[0]\n",
        "        action = q_values[1]\n",
        "        States_track[state][action] = []"
      ],
      "execution_count": 0,
      "outputs": []
    },
    {
      "cell_type": "code",
      "metadata": {
        "id": "zgTSxK-Gkz2h",
        "colab_type": "code",
        "colab": {}
      },
      "source": [
        "def save_tracking_states():\n",
        "    for state in States_track.keys():\n",
        "        for action in States_track[state].keys():\n",
        "            if state in Q_dict and action in Q_dict[state]:\n",
        "                States_track[state][action].append(Q_dict[state][action])   "
      ],
      "execution_count": 0,
      "outputs": []
    },
    {
      "cell_type": "code",
      "metadata": {
        "id": "30fG3d3Ikz2r",
        "colab_type": "code",
        "colab": {}
      },
      "source": [
        "#Defining a function to save the Q-dictionary as a pickle file\n",
        "def save_obj(obj, name ):\n",
        "    with open(name + '.pkl', 'wb') as f:\n",
        "        pickle.dump(obj, f, pickle.HIGHEST_PROTOCOL)"
      ],
      "execution_count": 0,
      "outputs": []
    },
    {
      "cell_type": "markdown",
      "metadata": {
        "id": "cyC3FkhBkz25",
        "colab_type": "text"
      },
      "source": [
        "### Agent Class\n",
        "\n",
        "If you are using this framework, you need to fill the following to complete the following code block:\n",
        "1. State and Action Size\n",
        "2. Hyperparameters\n",
        "3. Create a neural-network model in function 'build_model()'\n",
        "4. Define epsilon-greedy strategy in function 'get_action()'\n",
        "5. Complete the function 'append_sample()'. This function appends the recent experience tuple <state, action, reward, new-state> to the memory\n",
        "6. Complete the 'train_model()' function with following logic:\n",
        "   - If the memory size is greater than mini-batch size, you randomly sample experiences from memory as per the mini-batch size and do the following:\n",
        "      - Initialise your input and output batch for training the model\n",
        "      - Calculate the target Q value for each sample: reward + gamma*max(Q(s'a,))\n",
        "      - Get Q(s', a) values from the last trained model\n",
        "      - Update the input batch as your encoded state and output batch as your Q-values\n",
        "      - Then fit your DQN model using the updated input and output batch."
      ]
    },
    {
      "cell_type": "code",
      "metadata": {
        "id": "4zydz9Mqkz27",
        "colab_type": "code",
        "colab": {}
      },
      "source": [
        "class DQNAgent:\n",
        "    def __init__(self, state_size, action_size):\n",
        "        # Define size of state and action\n",
        "        self.state_size = state_size\n",
        "        self.action_size = action_size\n",
        "\n",
        "        # Write here: Specify you hyper parameters for the DQN\n",
        "        self.discount_factor = 0.95\n",
        "        self.learning_rate = 0.001      \n",
        "        self.epsilon_max = 1.0\n",
        "        self.epsilon_decay = 0.0003 \n",
        "        self.epsilon_min = 0.00000001\n",
        "        \n",
        "        self.batch_size = 32        \n",
        "        # create replay memory using deque\n",
        "        self.memory = deque(maxlen=2000)\n",
        "\n",
        "        # create main model and target model\n",
        "        self.model = self.build_model()\n",
        "\n",
        "    # approximate Q function using Neural Network\n",
        "    def build_model(self):\n",
        "        model = Sequential()\n",
        "        # Write your code here: Add layers to your neural nets       \n",
        "        model.add(Dense(200, input_dim=self.state_size, activation='relu'))\n",
        "        model.add(Dense(150, activation='relu'))\n",
        "        model.add(Dense(100, activation='relu'))\n",
        "        model.add(Dense(action_size, activation='linear'))\n",
        "        model.compile(loss='mse',optimizer=Adam(lr=self.learning_rate))\n",
        "        model.summary\n",
        "        return model\n",
        "\n",
        "\n",
        "    #issue with get action\n",
        "    def get_action(self, state):\n",
        "        # Write your code here:\n",
        "        # get action from model using epsilon-greedy policy\n",
        "        # Decay in ε after we generate each sample from the environment       \n",
        "        epsilon = self.epsilon_min + (self.epsilon_max - self.epsilon_min) * np.exp(-self.epsilon_decay*episode)        \n",
        "        poss_actions_index, poss_actions = env.requests(state)\n",
        "        \n",
        "        if np.random.rand()<= epsilon:\n",
        "            return random.choice(poss_actions)\n",
        "        else:  \n",
        "            #print(\"state\",state)      \n",
        "            #Issue - not sure about the state i.e. which state to use.\n",
        "            \n",
        "            action = max(Q_dict[state],key=Q_dict[state].get)                        \n",
        "            \n",
        "            return action\n",
        "        \n",
        "\n",
        "    def append_sample(self, state, action, reward, next_state,terminal):\n",
        "    # Write your code here:\n",
        "    # save sample <s,a,r,s'> to the replay memory\n",
        "        self.memory.append((state,action,reward, next_state,terminal))\n",
        "    \n",
        "    \n",
        "    # pick samples randomly from replay memory (with batch_size) and train the network\n",
        "    def train_model(self):\n",
        "        \n",
        "        if len(self.memory) > self.batch_size:\n",
        "            # Sample batch from the memory\n",
        "            mini_batch = random.sample(self.memory, self.batch_size)\n",
        "            update_output = np.zeros((self.batch_size,self.state_size))# write here\n",
        "            update_input = np.zeros((self.batch_size,self.state_size))# write here\n",
        "            \n",
        "            actions, rewards, terminal_states = [], [], []\n",
        "            \n",
        "            for i in range(self.batch_size):\n",
        "                state, action, reward, next_state, terminal = mini_batch[i]\n",
        "               \n",
        "                add_to_dict((state))\n",
        "                actions.append(action)\n",
        "                rewards.append(reward)\n",
        "                terminal_states.append(terminal)\n",
        "                \n",
        "                update_input[i]=env.state_encod_arch1(state)\n",
        "                update_output[i]=env.state_encod_arch1(next_state)\n",
        "                \n",
        "                \n",
        "            # Write your code from here\n",
        "            # 1. Predict the target from earlier model            \n",
        "            target=self.model.predict(update_input,batch_size =self.batch_size,verbose=0)\n",
        "            \n",
        "            # 2. Get the target for the Q-network\n",
        "            target_qval = self.model.predict(update_output) \n",
        "                \n",
        "                \n",
        "            #3. Update your 'update_output' and 'update_input' batch \n",
        "            for i in range(self.batch_size):\n",
        "                state = mini_batch[i][0]                \n",
        "                if terminal_states[i]:\n",
        "                    Q_dict[state][actions[i]] = rewards[i]\n",
        "                else:\n",
        "                    Q_dict[state][actions[i]] = rewards[i] + self.discount_factor * np.max(target_qval[i])                \n",
        "                \n",
        "                \n",
        "            # 4. Fit your model and track the loss values\n",
        "            self.model.fit(update_input, target, batch_size=self.batch_size, epochs=1, verbose=0)\n",
        "\n",
        "    def save(self, name):\n",
        "        self.model.save(name)"
      ],
      "execution_count": 0,
      "outputs": []
    },
    {
      "cell_type": "code",
      "metadata": {
        "id": "pYSFLDD8kz3G",
        "colab_type": "code",
        "colab": {}
      },
      "source": [
        "Episodes = 1500\n",
        "threshold = 100\n",
        "rewards_per_episode=[]\n",
        "avg_reward_per_episode=[]"
      ],
      "execution_count": 0,
      "outputs": []
    },
    {
      "cell_type": "markdown",
      "metadata": {
        "id": "E4jr3ro_kz3U",
        "colab_type": "text"
      },
      "source": [
        "### DQN block"
      ]
    },
    {
      "cell_type": "code",
      "metadata": {
        "scrolled": false,
        "id": "lPKMXAVFkz3Z",
        "colab_type": "code",
        "colab": {}
      },
      "source": [
        "for episode in range(Episodes):\n",
        "\n",
        "    # Write code here\n",
        "    # Call the environment\n",
        "    \n",
        "    env = CabDriver()\n",
        "    # Call all the initialised variables of the environment\n",
        "    curr_state = random.choice(env.state_space)\n",
        "    state = env.state_encod_arch1(curr_state)\n",
        "    state_size = len(state)\n",
        "    indexs, actions = env.requests(curr_state)\n",
        "    action_size = len(actions)\n",
        "    \n",
        "    add_to_dict((curr_state))\n",
        "    #Call the DQN agent\n",
        "    agent= DQNAgent(state_size,action_size)\n",
        "    \n",
        "    terminal_state=False\n",
        "    \n",
        "    #score\n",
        "    score=0\n",
        "    avg_reward=[]\n",
        "    while not terminal_state:      \n",
        "        \n",
        "        # Write your code here\n",
        "        # 1. Pick epsilon-greedy action from possible actions for the current state\n",
        "        action = agent.get_action(curr_state)\n",
        "        # 2. Evaluate your reward and next state\n",
        "        reward = env.reward_func(curr_state, action, Time_matrix)\n",
        "        next_state , terminal_state = env.next_state_func(curr_state,action,Time_matrix)\n",
        "        \n",
        "        # 3. Append the experience to the memory\n",
        "        agent.append_sample(curr_state, action, reward, next_state,terminal_state)\n",
        "        # 4. Train the model by calling function agent.train_model\n",
        "        agent.train_model()\n",
        "        # 5. Keep a track of rewards, Q-values, loss\n",
        "        score = score + reward    \n",
        "        curr_state =  next_state\n",
        "        add_to_dict((curr_state))\n",
        "        avg_reward.append(reward)\n",
        "    #tracking rewards    \n",
        "    rewards_per_episode.append(score)\n",
        "    avg_reward_per_episode.append(sum(avg_reward)/ len(avg_reward))\n",
        "    if (episode == threshold-1):   \n",
        "        print(\"initialise_tracking_states\")\n",
        "        initialise_tracking_states()\n",
        "    if episode % threshold == 0:    \n",
        "        print(\"episode\",episode,\"max reward\",max(rewards_per_episode))        \n",
        "        save_obj(rewards_per_episode,'Rewards')\n",
        "    if ((episode) % threshold) == 0:        \n",
        "        save_tracking_states()\n",
        "        save_obj(States_track,'States_tracked')   \n",
        "        agent.save(\"Final_DQN_model.pkl\")  #Saving the model .pkl file"
      ],
      "execution_count": 0,
      "outputs": []
    },
    {
      "cell_type": "markdown",
      "metadata": {
        "id": "g1EkPp33kz3j",
        "colab_type": "text"
      },
      "source": [
        "### Tracking Convergence"
      ]
    },
    {
      "cell_type": "code",
      "metadata": {
        "id": "kcflR6c2kz3t",
        "colab_type": "code",
        "colab": {
          "base_uri": "https://localhost:8080/",
          "height": 301
        },
        "outputId": "fbe717e1-2290-4d88-ebf0-7f9c2f198960"
      },
      "source": [
        "# Rewards per episode\n",
        "plt.plot(list(range(len(rewards_per_episode))), rewards_per_episode)\n",
        "plt.xlabel(\"episode number\")\n",
        "plt.ylabel(\"reward per episode\")"
      ],
      "execution_count": 19,
      "outputs": [
        {
          "output_type": "execute_result",
          "data": {
            "text/plain": [
              "Text(0, 0.5, 'reward per episode')"
            ]
          },
          "metadata": {
            "tags": []
          },
          "execution_count": 19
        },
        {
          "output_type": "display_data",
          "data": {
            "image/png": "[encoded data removed]",
            "text/plain": [
              "<Figure size 432x288 with 1 Axes>"
            ]
          },
          "metadata": {
            "tags": []
          }
        }
      ]
    },
    {
      "cell_type": "code",
      "metadata": {
        "id": "NJ1CocG385yN",
        "colab_type": "code",
        "colab": {}
      },
      "source": [
        "avg_reward=[]\n",
        "for e in range(1,len(rewards_per_episode)):\n",
        "    avg_reward.append(sum(rewards_per_episode[:e])//e)"
      ],
      "execution_count": 0,
      "outputs": []
    },
    {
      "cell_type": "code",
      "metadata": {
        "id": "_0DUyWSg9Asl",
        "colab_type": "code",
        "colab": {
          "base_uri": "https://localhost:8080/",
          "height": 301
        },
        "outputId": "60e35daf-8170-414e-f132-8b32793fead0"
      },
      "source": [
        "#Avergae rewatds\n",
        "plt.plot(list(range(len(avg_reward))), avg_reward)\n",
        "plt.xlabel(\"episode number\")\n",
        "plt.ylabel(\"reward per episode\")"
      ],
      "execution_count": 17,
      "outputs": [
        {
          "output_type": "execute_result",
          "data": {
            "text/plain": [
              "Text(0, 0.5, 'reward per episode')"
            ]
          },
          "metadata": {
            "tags": []
          },
          "execution_count": 17
        },
        {
          "output_type": "display_data",
          "data": {
            "image/png": "[encoded data removed]",
            "text/plain": [
              "<Figure size 432x288 with 1 Axes>"
            ]
          },
          "metadata": {
            "tags": []
          }
        }
      ]
    },
    {
      "cell_type": "markdown",
      "metadata": {
        "id": "z-N-P3Gtkz33",
        "colab_type": "text"
      },
      "source": [
        "#### Epsilon-decay sample function"
      ]
    },
    {
      "cell_type": "markdown",
      "metadata": {
        "id": "D8xqsqZ_kz35",
        "colab_type": "text"
      },
      "source": [
        "<div class=\"alert alert-block alert-info\">\n",
        "Try building a similar epsilon-decay function for your model.\n",
        "</div>"
      ]
    },
    {
      "cell_type": "code",
      "metadata": {
        "id": "IGtJsjrkkz37",
        "colab_type": "code",
        "colab": {}
      },
      "source": [
        "time = np.arange(0,10000)\n",
        "epsilon = []\n",
        "for i in range(0,10000):\n",
        "    epsilon.append(0 + (1 - 0) * np.exp(-0.0009*i))"
      ],
      "execution_count": 0,
      "outputs": []
    },
    {
      "cell_type": "code",
      "metadata": {
        "id": "IEgoB9j-kz4O",
        "colab_type": "code",
        "colab": {
          "base_uri": "https://localhost:8080/",
          "height": 269
        },
        "outputId": "c0f9a69c-6e56-41a6-e2bc-5d76a06c644d"
      },
      "source": [
        "plt.plot(time, epsilon)\n",
        "plt.show()"
      ],
      "execution_count": 25,
      "outputs": [
        {
          "output_type": "display_data",
          "data": {
            "image/png": "[encoded data removed]",
            "text/plain": [
              "<Figure size 432x288 with 1 Axes>"
            ]
          },
          "metadata": {
            "tags": []
          }
        }
      ]
    },
    {
      "cell_type": "code",
      "metadata": {
        "id": "HjjtT_D3kz4a",
        "colab_type": "code",
        "colab": {}
      },
      "source": [
        ""
      ],
      "execution_count": 0,
      "outputs": []
    }
  ]
}